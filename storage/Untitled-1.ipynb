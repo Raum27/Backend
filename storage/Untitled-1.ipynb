{
 "cells": [
  {
   "cell_type": "code",
   "execution_count": 2,
   "metadata": {},
   "outputs": [],
   "source": [
    "import pandas as pd\n",
    "import requests\n",
    "from bs4 import BeautifulSoup\n",
    "import time\n",
    "def scapweb(url):\n",
    "    r = requests.get(url)\n",
    "    r.encoding = 'utf-8' \n",
    "    soup = BeautifulSoup(r.text,'lxml')\n",
    "    title = soup.find_all('h1',{'class':'jsx-3943502238 title'})[0].text\n",
    "    image_ = soup.find_all('img')\n",
    "    display = image_[7]['src']\n",
    "    detail = soup.find_all('p')\n",
    "    str_ =''\n",
    "    for i in range(len(detail)-6):\n",
    "        str_ +=detail[i].text.strip()\n",
    "    str_=str_.replace('\\xa0',' ')\n",
    "    str_=str_.replace('สนับสนุนเนื้อหา','')\n",
    "    return title,display,str_"
   ]
  },
  {
   "cell_type": "code",
   "execution_count": 3,
   "metadata": {},
   "outputs": [],
   "source": [
    "\n",
    "url_=['https://www.sanook.com/game/1174290/','https://www.sanook.com/game/1173794/'\n",
    "      ,'https://www.sanook.com/game/1173802/','https://www.sanook.com/game/1173842/'\n",
    "      ,'https://www.sanook.com/game/1173978/','https://www.sanook.com/sport/1460511/'\n",
    "      ,'https://www.sanook.com/sport/1460508/','https://www.sanook.com/game/1174042/'\n",
    "      ,'https://www.sanook.com/hitech/1577535/','https://www.sanook.com/hitech/1577447/'\n",
    "      ,'https://www.sanook.com/hitech/1577483/','https://www.sanook.com/health/13957/'\n",
    "      ,'https://www.sanook.com/health/7621/']\n",
    "title=[]\n",
    "image=[]\n",
    "contents=[]\n",
    "for i in url_:\n",
    "    time.sleep(1)\n",
    "    x,y,z = scapweb(i)\n",
    "    title.append(x)\n",
    "    image.append(y)\n",
    "    contents.append(z)        \n"
   ]
  },
  {
   "cell_type": "code",
   "execution_count": 4,
   "metadata": {},
   "outputs": [],
   "source": [
    "# title"
   ]
  },
  {
   "cell_type": "code",
   "execution_count": 5,
   "metadata": {},
   "outputs": [],
   "source": [
    "df = pd.DataFrame(list(zip(title,image,contents)),columns=['title','image','contents'])"
   ]
  },
  {
   "cell_type": "code",
   "execution_count": 6,
   "metadata": {},
   "outputs": [],
   "source": [
    "pd.DataFrame.to_csv(df,\"data.csv\")"
   ]
  },
  {
   "cell_type": "code",
   "execution_count": null,
   "metadata": {},
   "outputs": [],
   "source": []
  }
 ],
 "metadata": {
  "kernelspec": {
   "display_name": "nlp_tf",
   "language": "python",
   "name": "python3"
  },
  "language_info": {
   "codemirror_mode": {
    "name": "ipython",
    "version": 3
   },
   "file_extension": ".py",
   "mimetype": "text/x-python",
   "name": "python",
   "nbconvert_exporter": "python",
   "pygments_lexer": "ipython3",
   "version": "3.10.0"
  },
  "orig_nbformat": 4
 },
 "nbformat": 4,
 "nbformat_minor": 2
}
